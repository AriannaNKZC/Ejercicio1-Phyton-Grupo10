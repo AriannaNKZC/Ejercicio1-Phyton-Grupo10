{
 "cells": [
  {
   "cell_type": "markdown",
   "id": "f3b1e108",
   "metadata": {},
   "source": [
    "# Tarea 1\n",
    "\n",
    "## Segmento 2: Web scrapping"
   ]
  },
  {
   "cell_type": "markdown",
   "id": "8cd93bac",
   "metadata": {},
   "source": [
    "### Parte 1: Installing Libraries"
   ]
  },
  {
   "cell_type": "code",
   "execution_count": 2,
   "id": "81a956d5",
   "metadata": {},
   "outputs": [],
   "source": [
    "#!pip install -r requirements.txt"
   ]
  },
  {
   "cell_type": "code",
   "execution_count": 3,
   "id": "c151bf30",
   "metadata": {},
   "outputs": [],
   "source": [
    "#conda install -c conda-forge selenium"
   ]
  },
  {
   "cell_type": "code",
   "execution_count": 4,
   "id": "98483af9",
   "metadata": {},
   "outputs": [],
   "source": [
    "#pip install selenium"
   ]
  },
  {
   "cell_type": "code",
   "execution_count": 5,
   "id": "08cc6864",
   "metadata": {},
   "outputs": [],
   "source": [
    "#pip install --upgrade selenium"
   ]
  },
  {
   "cell_type": "code",
   "execution_count": 6,
   "id": "f93c1c74",
   "metadata": {},
   "outputs": [],
   "source": [
    "#!pip install webdriver-manager"
   ]
  },
  {
   "cell_type": "markdown",
   "id": "8a97d610",
   "metadata": {},
   "source": [
    "### Parte 2: Calling libraries"
   ]
  },
  {
   "cell_type": "code",
   "execution_count": 1,
   "id": "8417e566",
   "metadata": {},
   "outputs": [],
   "source": [
    "from selenium import webdriver\n",
    "from selenium.webdriver.common.by import By\n",
    "from selenium.webdriver.chrome.service import Service\n",
    "from webdriver_manager.chrome import ChromeDriverManager\n",
    "from selenium.webdriver.support.ui import WebDriverWait\n",
    "from selenium.webdriver.support import expected_conditions as EC\n",
    "import time\n",
    "import re"
   ]
  },
  {
   "cell_type": "markdown",
   "id": "8e307a1a",
   "metadata": {},
   "source": [
    "### Parte 3: Launch/Set the driver"
   ]
  },
  {
   "cell_type": "code",
   "execution_count": 7,
   "id": "05069ecc",
   "metadata": {},
   "outputs": [],
   "source": [
    "# Inicia Chrome automáticamente con el driver correcto\n",
    "driver = webdriver.Chrome(service=Service(ChromeDriverManager().install()))\n",
    "driver.get(\"https://www.bumeran.com.pe\")\n",
    "time.sleep(3)"
   ]
  },
  {
   "cell_type": "code",
   "execution_count": 8,
   "id": "d58ecfbb-b2bc-439a-ae3e-fe4ab8eb14a5",
   "metadata": {},
   "outputs": [],
   "source": [
    "driver.maximize_window()"
   ]
  },
  {
   "cell_type": "markdown",
   "id": "cf3e475a-260c-4c9d-a3d5-3df9ce4fd6e5",
   "metadata": {},
   "source": [
    "## Working on the web scrapping\n",
    "\n",
    "### Applying filters\n",
    "\n",
    "1. Menor a 15 dîas\n",
    "2. Tecnología, sistema y telecomunicaciones\n",
    "3. Programación\n",
    "4. Lima\n",
    "5. Full-time"
   ]
  },
  {
   "cell_type": "code",
   "execution_count": 9,
   "id": "0c0a0298-cccd-4692-b0a8-0441951ffa40",
   "metadata": {},
   "outputs": [],
   "source": [
    "#0. abrir buscador\n",
    "\n",
    "# hacer click en el botón de buscar\n",
    "search_button = driver.find_element(By.XPATH, '//*[@id=\"root\"]/div/div[2]/div/div/div[1]/div/div/div/form/div[3]')\n",
    "search_button.click()"
   ]
  },
  {
   "cell_type": "code",
   "execution_count": 10,
   "id": "fc282f82-ee10-4264-8885-ffff18a1e5cb",
   "metadata": {},
   "outputs": [],
   "source": [
    "#1.1 hacer click en el botón de buscar fecha\n",
    "publication_date_button = driver.find_element(By.XPATH, '//*[@id=\"root\"]/div/div[2]/div[1]/div/div[2]/div[1]/div[2]/div/div[1]/button[1]')\n",
    "publication_date_button.click()"
   ]
  },
  {
   "cell_type": "code",
   "execution_count": 11,
   "id": "3965c9ff-26bc-42ff-8601-780028985a46",
   "metadata": {},
   "outputs": [],
   "source": [
    "#1.2 hacer click en el botón 15 días\n",
    "\n",
    "wait = WebDriverWait(driver, 15)\n",
    "\n",
    "date_button = wait.until(\n",
    "    EC.element_to_be_clickable((By.XPATH, '//*[@id=\"root\"]/div/div[2]/div[1]/div/div[2]/div[1]/div[2]/div/div[2]/div/div/button[8]'))\n",
    ")\n",
    "date_button.click()"
   ]
  },
  {
   "cell_type": "code",
   "execution_count": 12,
   "id": "851aaa1a-b2d8-43e1-baac-1d8b86eb9e53",
   "metadata": {},
   "outputs": [],
   "source": [
    "#2.1 hacer click en área\n",
    "\n",
    "area1_button = driver.find_element(By.XPATH, '//*[@id=\"root\"]/div/div[2]/div[1]/div/div[2]/div[1]/div[2]/div/div[1]/button[1]')\n",
    "area1_button.click()"
   ]
  },
  {
   "cell_type": "code",
   "execution_count": 13,
   "id": "80bd93c4-6b35-4400-a461-8e5c6988ed5d",
   "metadata": {},
   "outputs": [],
   "source": [
    "#2.2 hacer click en área TST\n",
    "\n",
    "area2_button = wait.until(\n",
    "    EC.element_to_be_clickable((By.XPATH, '//*[@id=\"root\"]/div/div[2]/div[1]/div/div[2]/div[1]/div[2]/div/div[2]/div/div/button[3]'))\n",
    ")\n",
    "area2_button.click()"
   ]
  },
  {
   "cell_type": "code",
   "execution_count": 14,
   "id": "f63fd3d1-0e41-48ac-982a-f5a3b5cdd317",
   "metadata": {},
   "outputs": [],
   "source": [
    "#3.1 hacer click en subárea\n",
    "\n",
    "subarea1_button = driver.find_element(By.XPATH, '//*[@id=\"root\"]/div/div[2]/div[1]/div/div[2]/div[1]/div[2]/div/div[1]/button[1]')\n",
    "subarea1_button.click()"
   ]
  },
  {
   "cell_type": "code",
   "execution_count": 16,
   "id": "2ead153e-1c40-4d30-a00d-02ffad96e38a",
   "metadata": {},
   "outputs": [],
   "source": [
    "#3.2 hacer click en subárea programación\n",
    "\n",
    "wait = WebDriverWait(driver, 15)\n",
    "\n",
    "subarea2_button = wait.until(\n",
    "    EC.element_to_be_clickable((By.XPATH, '//*[@id=\"root\"]/div/div[2]/div[1]/div/div[2]/div[1]/div[2]/div/div[2]/div/div/button[2]'))\n",
    ")\n",
    "subarea2_button.click()"
   ]
  },
  {
   "cell_type": "code",
   "execution_count": 17,
   "id": "938753d0-3382-4ff4-92b5-c49f825f3c75",
   "metadata": {},
   "outputs": [],
   "source": [
    "#4.1 hacer click en departamento\n",
    "\n",
    "departamento_button = driver.find_element(By.XPATH, '//*[@id=\"root\"]/div/div[2]/div[1]/div/div[2]/div[1]/div[2]/div/div[1]/button[1]')\n",
    "departamento_button.click()"
   ]
  },
  {
   "cell_type": "code",
   "execution_count": 19,
   "id": "f320844c-376d-4631-8416-ec57ad8b7bf7",
   "metadata": {},
   "outputs": [],
   "source": [
    "#4.2 hacer click en lima\n",
    "\n",
    "wait = WebDriverWait(driver, 15)\n",
    "\n",
    "Lima_button = wait.until(\n",
    "    EC.element_to_be_clickable((By.XPATH, '//*[@id=\"root\"]/div/div[2]/div[1]/div/div[2]/div[1]/div[2]/div/div[2]/div/div/button[1]'))\n",
    ")\n",
    "Lima_button.click()"
   ]
  },
  {
   "cell_type": "code",
   "execution_count": 20,
   "id": "f433936c-a9d5-4617-8df9-1a86ecd00edb",
   "metadata": {},
   "outputs": [],
   "source": [
    "#5.1. hacer click en carga horaria\n",
    "\n",
    "carga_button = driver.find_element(By.XPATH, '//*[@id=\"root\"]/div/div[2]/div[1]/div/div[2]/div[1]/div[2]/div/div[1]/button[4]')\n",
    "carga_button.click()"
   ]
  },
  {
   "cell_type": "code",
   "execution_count": 21,
   "id": "d371501d-af35-4ed0-8d8b-d7a3b04c4875",
   "metadata": {},
   "outputs": [],
   "source": [
    "#5.2. hacer click en carga horaria - full time\n",
    "\n",
    "wait = WebDriverWait(driver, 15)\n",
    "\n",
    "full_button = wait.until(\n",
    "    EC.element_to_be_clickable((By.XPATH, '//*[@id=\"root\"]/div/div[2]/div[1]/div/div[2]/div[1]/div[2]/div/div[2]/div/div/button[1]'))\n",
    ")\n",
    "full_button.click()"
   ]
  },
  {
   "cell_type": "code",
   "execution_count": 22,
   "id": "7f441f6a-aa0f-4ac8-8988-d635b3ecbf6b",
   "metadata": {},
   "outputs": [
    {
     "name": "stdout",
     "output_type": "stream",
     "text": [
      "URL base detectada: https://www.bumeran.com.pe/en-lima/empleos-area-tecnologia-sistemas-y-telecomunicaciones-subarea-programacion-full-time-publicacion-menor-a-15-dias.html\n"
     ]
    }
   ],
   "source": [
    "base_url = driver.current_url\n",
    "print(\"URL base detectada:\", base_url)"
   ]
  },
  {
   "cell_type": "code",
   "execution_count": 23,
   "id": "aca94125-1ed0-43cb-9822-aa456cb6d3b9",
   "metadata": {},
   "outputs": [],
   "source": [
    "url_base = \"https://www.bumeran.com.pe/en-lima/empleos-area-tecnologia-sistemas-y-telecomunicaciones-subarea-programacion-full-time-publicacion-menor-a-15-dias.html\""
   ]
  }
 ],
 "metadata": {
  "kernelspec": {
   "display_name": "Python 3 (ipykernel)",
   "language": "python",
   "name": "python3"
  },
  "language_info": {
   "codemirror_mode": {
    "name": "ipython",
    "version": 3
   },
   "file_extension": ".py",
   "mimetype": "text/x-python",
   "name": "python",
   "nbconvert_exporter": "python",
   "pygments_lexer": "ipython3",
   "version": "3.11.13"
  }
 },
 "nbformat": 4,
 "nbformat_minor": 5
}
